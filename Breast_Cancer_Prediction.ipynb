{
  "nbformat": 4,
  "nbformat_minor": 0,
  "metadata": {
    "colab": {
      "name": "Breast Cancer Prediction",
      "provenance": [],
      "collapsed_sections": [],
      "authorship_tag": "ABX9TyPaRDzxqWjjiXMV8mf3hC5J",
      "include_colab_link": true
    },
    "kernelspec": {
      "name": "python3",
      "display_name": "Python 3"
    },
    "language_info": {
      "name": "python"
    }
  },
  "cells": [
    {
      "cell_type": "markdown",
      "metadata": {
        "id": "view-in-github",
        "colab_type": "text"
      },
      "source": [
        "<a href=\"https://colab.research.google.com/github/ansah4525/Linear-regression-and-classification-ML-models/blob/main/Breast_Cancer_Prediction.ipynb\" target=\"_parent\"><img src=\"https://colab.research.google.com/assets/colab-badge.svg\" alt=\"Open In Colab\"/></a>"
      ]
    },
    {
      "cell_type": "code",
      "execution_count": 1,
      "metadata": {
        "id": "ta1RaU-wecux"
      },
      "outputs": [],
      "source": [
        "import pandas as pd"
      ]
    },
    {
      "cell_type": "code",
      "source": [
        "dataset= pd.read_csv('breast_cancer.csv') #pd. means accessing a function"
      ],
      "metadata": {
        "id": "nuZeF9UFfWkk"
      },
      "execution_count": 2,
      "outputs": []
    },
    {
      "cell_type": "code",
      "source": [
        "# we need a set of dependent and independant variables. \n",
        "\n",
        "x = dataset.iloc[:, 1: -1 ].values #all rows and columns except the last one\n",
        "y= dataset.iloc[:, -1].values #storing only the last column in dependant variable"
      ],
      "metadata": {
        "id": "WQ6ZJUGAgN_a"
      },
      "execution_count": 3,
      "outputs": []
    },
    {
      "cell_type": "code",
      "source": [
        "#splitting into training and testing set, we us skit library\n",
        "\n",
        "from sklearn.model_selection import train_test_split #function we have to use to split\n",
        "x_train, x_test, y_train, y_test= train_test_split(x, y, test_size=140, random_state =0 ) \n",
        " #these are 4 variables/subsets/matrices\n",
        "#x_train is the matrix of features in training test, y_train is dependant in training set, y_test is for test set\n",
        "#this train_test_split returns 4 subsets\n",
        "#we have 690 observations, we choose 140 to be in test set and remainig in training set. \n",
        "\n",
        "print(x_train)\n",
        "print(y_test)\n"
      ],
      "metadata": {
        "id": "ZuUvz4kbgGVK",
        "colab": {
          "base_uri": "https://localhost:8080/"
        },
        "outputId": "50569eaa-da64-488d-a5ae-93320df4d97b"
      },
      "execution_count": 5,
      "outputs": [
        {
          "output_type": "stream",
          "name": "stdout",
          "text": [
            "[[ 3  1  2 ...  2  1  1]\n",
            " [ 8  2  3 ...  7  1  1]\n",
            " [ 1  1  1 ...  3  1  1]\n",
            " ...\n",
            " [ 1  1  1 ...  1  1  1]\n",
            " [ 3  1  1 ...  2  1  1]\n",
            " [10  9  7 ...  7  7  1]]\n",
            "[2 2 4 4 2 2 2 4 2 2 4 2 4 2 2 2 4 4 4 2 2 2 4 2 4 4 2 2 2 4 2 4 4 2 2 2 4\n",
            " 4 2 4 2 2 2 2 2 2 2 4 2 2 4 2 4 2 2 2 4 2 2 4 2 2 2 2 2 2 2 2 4 4 2 2 2 2\n",
            " 2 2 4 2 2 2 4 2 4 2 2 4 2 2 4 2 4 2 4 4 4 2 4 4 4 2 2 2 4 4 2 2 4 4 2 2 4\n",
            " 2 2 4 2 2 2 4 2 2 2 4 2 2 4 4 2 4 2 4 2 2 4 2 2 4 2 4 2 2]\n"
          ]
        }
      ]
    },
    {
      "cell_type": "code",
      "source": [
        "from sklearn.linear_model import LogisticRegression\n",
        "classifier = LogisticRegression(random_state=0)\n",
        "#create an object of logictisc regression class\n",
        "classifier.fit(x_train, y_train)\n",
        "#training the model pasisng \n"
      ],
      "metadata": {
        "colab": {
          "base_uri": "https://localhost:8080/"
        },
        "id": "nBSIsbJIkD2P",
        "outputId": "ad058d43-9002-40f2-f949-9e8ea7464849"
      },
      "execution_count": 6,
      "outputs": [
        {
          "output_type": "execute_result",
          "data": {
            "text/plain": [
              "LogisticRegression(random_state=0)"
            ]
          },
          "metadata": {},
          "execution_count": 6
        }
      ]
    },
    {
      "cell_type": "code",
      "source": [
        "y_pred= classifier.predict(x_test)\n",
        "print(y_pred)\n",
        "#tumor is 2 or 4 \n"
      ],
      "metadata": {
        "id": "ViSq8DSjlp8s",
        "colab": {
          "base_uri": "https://localhost:8080/"
        },
        "outputId": "191f588c-22fb-40cf-bf81-b0231bfa3a66"
      },
      "execution_count": 7,
      "outputs": [
        {
          "output_type": "stream",
          "name": "stdout",
          "text": [
            "[2 2 4 4 2 2 2 4 2 2 4 2 4 2 2 2 4 4 4 2 2 2 4 2 4 4 2 2 2 4 2 4 4 2 2 2 4\n",
            " 4 2 4 2 2 2 2 2 2 2 4 2 2 4 2 4 2 2 2 4 4 2 4 2 2 2 2 2 2 2 2 4 4 2 2 2 2\n",
            " 2 2 4 2 2 2 4 2 4 2 2 4 2 4 4 2 4 2 4 4 2 4 4 4 4 2 2 2 4 4 2 2 4 2 2 2 4\n",
            " 2 2 4 2 2 2 2 2 2 2 4 2 2 4 4 2 4 2 4 2 2 4 2 2 4 2 4 2 2]\n"
          ]
        }
      ]
    },
    {
      "cell_type": "code",
      "source": [
        "#confusion matrix, how many correct how many incorrect\n",
        "from sklearn.metrics import confusion_matrix\n",
        "cm= confusion_matrix(y_test, y_pred ) #y_test is the actual prediction like its true\n",
        "print(cm)\n",
        "#first cell is the correct predictions, 86 correct predictions, 3 is incorrect predictions\n",
        "#only 6 wrong predictions (3+3)"
      ],
      "metadata": {
        "colab": {
          "base_uri": "https://localhost:8080/"
        },
        "id": "VntA6wjClmF9",
        "outputId": "fddcac1d-8f21-4474-ddb0-8f6cdfb8f7ad"
      },
      "execution_count": 8,
      "outputs": [
        {
          "output_type": "stream",
          "name": "stdout",
          "text": [
            "[[86  3]\n",
            " [ 3 48]]\n"
          ]
        }
      ]
    },
    {
      "cell_type": "code",
      "source": [
        "#finally we create 10 such tests and take the average of all accuracies\n",
        "from sklearn.model_selection import cross_val_score\n",
        "accuracies= cross_val_score(estimator=classifier, X=x_train, y=y_train, cv=10 )\n",
        "print(accuracies)\n",
        "print(\"Accuracy: {:.2f} % \".format(accuracies.mean()*100))\n",
        "#formatting the print statement to print exactly 2 digits after decimal point\n",
        "print(\"Standard deviation: {:.2f} % \".format(accuracies.std()*100))"
      ],
      "metadata": {
        "colab": {
          "base_uri": "https://localhost:8080/"
        },
        "id": "MewbCQ2On9Zw",
        "outputId": "0a51ff02-d4fe-4bea-8134-7bbac949e181"
      },
      "execution_count": 9,
      "outputs": [
        {
          "output_type": "stream",
          "name": "stdout",
          "text": [
            "[0.94545455 0.96363636 0.96363636 1.         0.94444444 1.\n",
            " 0.96296296 0.96296296 0.98148148 0.94444444]\n",
            "Accuracy: 96.69 % \n",
            "Standard deviation: 1.98 % \n"
          ]
        }
      ]
    }
  ]
}